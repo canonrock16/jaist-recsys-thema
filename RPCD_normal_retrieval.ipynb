{
 "cells": [
  {
   "cell_type": "code",
   "execution_count": 1,
   "id": "79faac6d-e9a2-4f69-aaf5-9267f71dff71",
   "metadata": {},
   "outputs": [],
   "source": [
    "import numpy as np\n",
    "import pandas as pd\n",
    "import tensorflow as tf\n",
    "import tensorflow_recommenders as tfrs\n",
    "from sklearn.model_selection import train_test_split\n",
    "from tqdm import tqdm\n",
    "\n",
    "from src.utils.model.retrieval_model import RetrievalModel"
   ]
  },
  {
   "cell_type": "code",
   "execution_count": 2,
   "id": "76da5a5e-32b6-4c8d-b643-5759670bb4f7",
   "metadata": {},
   "outputs": [],
   "source": [
    "val_rate = 0.2\n",
    "test_rate = 0.1\n",
    "batch_size = 100\n",
    "embedding_dimension = 100\n",
    "learning_rate = 0.1\n",
    "early_stopping_flg = True\n",
    "tensorboard_flg = False\n",
    "max_epoch_num = 20"
   ]
  },
  {
   "cell_type": "code",
   "execution_count": 3,
   "id": "5f24e485-c2e4-4c02-b452-a13fbc2a51ae",
   "metadata": {},
   "outputs": [],
   "source": [
    "behaviors_df = pd.read_csv(\n",
    "    \"data/RentalProperties/user_activity.csv\", names=(\"item_id\", \"user_id\", \"event_type\", \"create_timestamp\")\n",
    ")"
   ]
  },
  {
   "cell_type": "code",
   "execution_count": 4,
   "id": "db66be41-a177-4879-80c1-c1bd1f0b0e2f",
   "metadata": {},
   "outputs": [],
   "source": [
    "# behaviors_df"
   ]
  },
  {
   "cell_type": "code",
   "execution_count": 5,
   "id": "2f592c06-a5f2-48a8-82b3-c83878cc2617",
   "metadata": {},
   "outputs": [],
   "source": [
    "# behaviors_df.query('event_type == \"seen\"')[\"user_id\"].value_counts()\n",
    "seen_df = behaviors_df.query('event_type == \"seen\"')\n",
    "count_df = pd.DataFrame(seen_df[\"user_id\"].value_counts()).reset_index().rename(columns={\"index\": \"user_id\", \"user_id\": \"count\"})\n",
    "\n",
    "unique_user_ids = list(count_df.query(\"count >= 10\")[\"user_id\"])\n",
    "seen_df = seen_df[seen_df[\"user_id\"].isin(unique_user_ids)]"
   ]
  },
  {
   "cell_type": "code",
   "execution_count": 6,
   "id": "2d9c6ef2-0944-46f2-8d09-1ec249f7123e",
   "metadata": {},
   "outputs": [
    {
     "data": {
      "text/plain": [
       "2435"
      ]
     },
     "execution_count": 6,
     "metadata": {},
     "output_type": "execute_result"
    }
   ],
   "source": [
    "len(unique_user_ids)"
   ]
  },
  {
   "cell_type": "code",
   "execution_count": 7,
   "id": "bb77aefc-f424-4dce-b9eb-4577ee8f0bfb",
   "metadata": {},
   "outputs": [],
   "source": [
    "train_val_df, test_df = train_test_split(seen_df, test_size=0.1, stratify=seen_df[\"user_id\"])\n",
    "train_df, val_df = train_test_split(train_val_df, test_size=0.2, stratify=train_val_df[\"user_id\"])"
   ]
  },
  {
   "cell_type": "code",
   "execution_count": 8,
   "id": "c6562362-c613-453b-a95e-94d3fe766983",
   "metadata": {},
   "outputs": [
    {
     "name": "stdout",
     "output_type": "stream",
     "text": [
      "2435\n",
      "2435\n",
      "2435\n"
     ]
    }
   ],
   "source": [
    "print(len(train_df[\"user_id\"].unique()))\n",
    "print(len(val_df[\"user_id\"].unique()))\n",
    "print(len(test_df[\"user_id\"].unique()))"
   ]
  },
  {
   "cell_type": "code",
   "execution_count": 9,
   "id": "5344011c-4be7-4b30-8d18-404b6cdcdf55",
   "metadata": {},
   "outputs": [],
   "source": [
    "# train_df"
   ]
  },
  {
   "cell_type": "code",
   "execution_count": 10,
   "id": "c44d8eef-7ee0-4600-9fc9-d63b16f421d2",
   "metadata": {},
   "outputs": [],
   "source": [
    "# val_df"
   ]
  },
  {
   "cell_type": "code",
   "execution_count": 11,
   "id": "ae498e4f-69ee-4e71-ae48-53bc5ccf105b",
   "metadata": {},
   "outputs": [],
   "source": [
    "# test_df"
   ]
  },
  {
   "cell_type": "code",
   "execution_count": 12,
   "id": "02af68ac-dbcd-4a2f-9019-ae24296498b4",
   "metadata": {},
   "outputs": [
    {
     "name": "stderr",
     "output_type": "stream",
     "text": [
      "2022-09-11 13:40:31.552776: I tensorflow/core/platform/cpu_feature_guard.cc:193] This TensorFlow binary is optimized with oneAPI Deep Neural Network Library (oneDNN) to use the following CPU instructions in performance-critical operations:  AVX2 FMA\n",
      "To enable them in other operations, rebuild TensorFlow with the appropriate compiler flags.\n"
     ]
    }
   ],
   "source": [
    "train_ratings = tf.data.Dataset.from_tensor_slices({\"user_id\": train_df[\"user_id\"], \"item_id\": train_df[\"item_id\"]})\n",
    "val_ratings = tf.data.Dataset.from_tensor_slices({\"user_id\": val_df[\"user_id\"], \"item_id\": val_df[\"item_id\"]})\n",
    "test_ratings = tf.data.Dataset.from_tensor_slices({\"user_id\": test_df[\"user_id\"], \"item_id\": test_df[\"item_id\"]})"
   ]
  },
  {
   "cell_type": "code",
   "execution_count": 13,
   "id": "04f7fedd-7c3b-4a88-aef8-73b749e94e08",
   "metadata": {},
   "outputs": [],
   "source": [
    "train = train_ratings.batch(batch_size)\n",
    "val = val_ratings.batch(batch_size)\n",
    "test = test_ratings.batch(batch_size)"
   ]
  },
  {
   "cell_type": "code",
   "execution_count": 16,
   "id": "243eab2a-85b3-4165-86ee-3da5567411e6",
   "metadata": {},
   "outputs": [],
   "source": [
    "unique_user_ids = np.array(\n",
    "    list(\n",
    "        (set(train_df[\"user_id\"].unique()) | set(val_df[\"user_id\"].unique()) | set(test_df[\"user_id\"].unique()))\n",
    "    )\n",
    ")\n",
    "unique_item_ids = np.array(\n",
    "    list(set(train_df[\"item_id\"].unique()) | set(val_df[\"item_id\"].unique()) | set(test_df[\"item_id\"].unique()))\n",
    ")\n",
    "unique_item_dataset = tf.data.Dataset.from_tensor_slices(unique_item_ids)"
   ]
  },
  {
   "cell_type": "code",
   "execution_count": 15,
   "id": "1a94a34a-0148-46fe-83b9-1a6fc01bad09",
   "metadata": {},
   "outputs": [
    {
     "name": "stdout",
     "output_type": "stream",
     "text": [
      "WARNING:tensorflow:There are non-GPU devices in `tf.distribute.Strategy`, not using nccl allreduce.\n",
      "INFO:tensorflow:Using MirroredStrategy with devices ('/job:localhost/replica:0/task:0/device:CPU:0',)\n"
     ]
    },
    {
     "name": "stderr",
     "output_type": "stream",
     "text": [
      "/Users/haruka/dev/jaist-recsys-thema/.venv/lib/python3.9/site-packages/numpy/core/numeric.py:2463: FutureWarning: elementwise comparison failed; returning scalar instead, but in the future will perform elementwise comparison\n",
      "  return bool(asarray(a1 == a2).all())\n"
     ]
    }
   ],
   "source": [
    "strategy = tf.distribute.MirroredStrategy()\n",
    "with strategy.scope():\n",
    "    model = RetrievalModel(\n",
    "        unique_user_ids=unique_user_ids,\n",
    "        unique_item_ids=unique_item_ids,\n",
    "        user_dict_key=\"user_id\",\n",
    "        item_dict_key=\"item_id\",\n",
    "        embedding_dimension=embedding_dimension,\n",
    "        metrics_candidate_dataset=unique_item_dataset,\n",
    "    )\n",
    "    model.compile(optimizer=tf.keras.optimizers.Adam(learning_rate))"
   ]
  },
  {
   "cell_type": "code",
   "execution_count": 16,
   "id": "4c2e1f05-f0ba-4f71-ad14-af508d275827",
   "metadata": {},
   "outputs": [],
   "source": [
    "callbacks = []\n",
    "if early_stopping_flg:\n",
    "    callbacks.append(\n",
    "        tf.keras.callbacks.EarlyStopping(\n",
    "            monitor=\"total_loss\",\n",
    "            min_delta=0,\n",
    "            patience=3,\n",
    "            verbose=0,\n",
    "            mode=\"auto\",\n",
    "            baseline=None,\n",
    "            restore_best_weights=False,\n",
    "        )\n",
    "    )\n",
    "if tensorboard_flg:\n",
    "    tfb_log_path = log_path + datetime.now().strftime(\"%Y%m%d-%H%M%S\")\n",
    "    callbacks.append(\n",
    "        tf.keras.callbacks.TensorBoard(\n",
    "            log_dir=tfb_log_path,\n",
    "            histogram_freq=1,\n",
    "        )\n",
    "    )"
   ]
  },
  {
   "cell_type": "code",
   "execution_count": 17,
   "id": "56d9fb14-afba-463d-b2ff-5bd3d602d3b9",
   "metadata": {},
   "outputs": [
    {
     "name": "stdout",
     "output_type": "stream",
     "text": [
      "Epoch 1/20\n"
     ]
    },
    {
     "name": "stderr",
     "output_type": "stream",
     "text": [
      "2022-09-11 13:40:32.046921: W tensorflow/core/grappler/optimizers/data/auto_shard.cc:776] AUTO sharding policy will apply DATA sharding policy as it failed to apply FILE sharding policy because of the following reason: Found an unshardable source dataset: name: \"TensorSliceDataset/_2\"\n",
      "op: \"TensorSliceDataset\"\n",
      "input: \"Placeholder/_0\"\n",
      "input: \"Placeholder/_1\"\n",
      "attr {\n",
      "  key: \"Toutput_types\"\n",
      "  value {\n",
      "    list {\n",
      "      type: DT_STRING\n",
      "      type: DT_STRING\n",
      "    }\n",
      "  }\n",
      "}\n",
      "attr {\n",
      "  key: \"_cardinality\"\n",
      "  value {\n",
      "    i: 40668\n",
      "  }\n",
      "}\n",
      "attr {\n",
      "  key: \"is_files\"\n",
      "  value {\n",
      "    b: false\n",
      "  }\n",
      "}\n",
      "attr {\n",
      "  key: \"metadata\"\n",
      "  value {\n",
      "    s: \"\\n\\024TensorSliceDataset:0\"\n",
      "  }\n",
      "}\n",
      "attr {\n",
      "  key: \"output_shapes\"\n",
      "  value {\n",
      "    list {\n",
      "      shape {\n",
      "      }\n",
      "      shape {\n",
      "      }\n",
      "    }\n",
      "  }\n",
      "}\n",
      "experimental_type {\n",
      "  type_id: TFT_PRODUCT\n",
      "  args {\n",
      "    type_id: TFT_DATASET\n",
      "    args {\n",
      "      type_id: TFT_PRODUCT\n",
      "      args {\n",
      "        type_id: TFT_TENSOR\n",
      "        args {\n",
      "          type_id: TFT_STRING\n",
      "        }\n",
      "      }\n",
      "      args {\n",
      "        type_id: TFT_TENSOR\n",
      "        args {\n",
      "          type_id: TFT_STRING\n",
      "        }\n",
      "      }\n",
      "    }\n",
      "  }\n",
      "}\n",
      "\n",
      "2022-09-11 13:40:32.094333: W tensorflow/core/framework/dataset.cc:768] Input of GeneratorDatasetOp::Dataset will not be optimized because the dataset does not implement the AsGraphDefInternal() method needed to apply optimizations.\n"
     ]
    },
    {
     "name": "stdout",
     "output_type": "stream",
     "text": [
      "396/407 [============================>.] - ETA: 0s - factorized_top_k/top_1_categorical_accuracy: 0.0000e+00 - factorized_top_k/top_5_categorical_accuracy: 0.0000e+00 - factorized_top_k/top_10_categorical_accuracy: 0.0000e+00 - factorized_top_k/top_50_categorical_accuracy: 0.0000e+00 - factorized_top_k/top_100_categorical_accuracy: 0.0000e+00 - loss: 2610.1077 - regularization_loss: 0.0000e+00 - total_loss: 2610.1077"
     ]
    },
    {
     "name": "stderr",
     "output_type": "stream",
     "text": [
      "2022-09-11 13:40:35.532750: W tensorflow/core/grappler/optimizers/data/auto_shard.cc:776] AUTO sharding policy will apply DATA sharding policy as it failed to apply FILE sharding policy because of the following reason: Found an unshardable source dataset: name: \"TensorSliceDataset/_2\"\n",
      "op: \"TensorSliceDataset\"\n",
      "input: \"Placeholder/_0\"\n",
      "input: \"Placeholder/_1\"\n",
      "attr {\n",
      "  key: \"Toutput_types\"\n",
      "  value {\n",
      "    list {\n",
      "      type: DT_STRING\n",
      "      type: DT_STRING\n",
      "    }\n",
      "  }\n",
      "}\n",
      "attr {\n",
      "  key: \"_cardinality\"\n",
      "  value {\n",
      "    i: 10168\n",
      "  }\n",
      "}\n",
      "attr {\n",
      "  key: \"is_files\"\n",
      "  value {\n",
      "    b: false\n",
      "  }\n",
      "}\n",
      "attr {\n",
      "  key: \"metadata\"\n",
      "  value {\n",
      "    s: \"\\n\\024TensorSliceDataset:1\"\n",
      "  }\n",
      "}\n",
      "attr {\n",
      "  key: \"output_shapes\"\n",
      "  value {\n",
      "    list {\n",
      "      shape {\n",
      "      }\n",
      "      shape {\n",
      "      }\n",
      "    }\n",
      "  }\n",
      "}\n",
      "experimental_type {\n",
      "  type_id: TFT_PRODUCT\n",
      "  args {\n",
      "    type_id: TFT_DATASET\n",
      "    args {\n",
      "      type_id: TFT_PRODUCT\n",
      "      args {\n",
      "        type_id: TFT_TENSOR\n",
      "        args {\n",
      "          type_id: TFT_STRING\n",
      "        }\n",
      "      }\n",
      "      args {\n",
      "        type_id: TFT_TENSOR\n",
      "        args {\n",
      "          type_id: TFT_STRING\n",
      "        }\n",
      "      }\n",
      "    }\n",
      "  }\n",
      "}\n",
      "\n"
     ]
    },
    {
     "name": "stdout",
     "output_type": "stream",
     "text": [
      "407/407 [==============================] - 9s 17ms/step - factorized_top_k/top_1_categorical_accuracy: 0.0000e+00 - factorized_top_k/top_5_categorical_accuracy: 0.0000e+00 - factorized_top_k/top_10_categorical_accuracy: 0.0000e+00 - factorized_top_k/top_50_categorical_accuracy: 0.0000e+00 - factorized_top_k/top_100_categorical_accuracy: 0.0000e+00 - loss: 2655.8665 - regularization_loss: 0.0000e+00 - total_loss: 2655.8665 - val_factorized_top_k/top_1_categorical_accuracy: 0.0000e+00 - val_factorized_top_k/top_5_categorical_accuracy: 6.8843e-04 - val_factorized_top_k/top_10_categorical_accuracy: 0.0029 - val_factorized_top_k/top_50_categorical_accuracy: 0.0232 - val_factorized_top_k/top_100_categorical_accuracy: 0.0501 - val_loss: 2583.9370 - val_regularization_loss: 0.0000e+00 - val_total_loss: 2583.9370\n",
      "Epoch 2/20\n",
      "407/407 [==============================] - 6s 15ms/step - factorized_top_k/top_1_categorical_accuracy: 0.0000e+00 - factorized_top_k/top_5_categorical_accuracy: 0.0000e+00 - factorized_top_k/top_10_categorical_accuracy: 0.0000e+00 - factorized_top_k/top_50_categorical_accuracy: 0.0000e+00 - factorized_top_k/top_100_categorical_accuracy: 0.0000e+00 - loss: 4212.4707 - regularization_loss: 0.0000e+00 - total_loss: 4212.4707 - val_factorized_top_k/top_1_categorical_accuracy: 0.0000e+00 - val_factorized_top_k/top_5_categorical_accuracy: 0.0016 - val_factorized_top_k/top_10_categorical_accuracy: 0.0062 - val_factorized_top_k/top_50_categorical_accuracy: 0.0361 - val_factorized_top_k/top_100_categorical_accuracy: 0.0729 - val_loss: 2765.1628 - val_regularization_loss: 0.0000e+00 - val_total_loss: 2765.1628\n",
      "Epoch 3/20\n",
      "407/407 [==============================] - 6s 16ms/step - factorized_top_k/top_1_categorical_accuracy: 0.0000e+00 - factorized_top_k/top_5_categorical_accuracy: 0.0000e+00 - factorized_top_k/top_10_categorical_accuracy: 0.0000e+00 - factorized_top_k/top_50_categorical_accuracy: 0.0000e+00 - factorized_top_k/top_100_categorical_accuracy: 0.0000e+00 - loss: 4422.6338 - regularization_loss: 0.0000e+00 - total_loss: 4422.6338 - val_factorized_top_k/top_1_categorical_accuracy: 1.9670e-04 - val_factorized_top_k/top_5_categorical_accuracy: 0.0011 - val_factorized_top_k/top_10_categorical_accuracy: 0.0032 - val_factorized_top_k/top_50_categorical_accuracy: 0.0434 - val_factorized_top_k/top_100_categorical_accuracy: 0.0878 - val_loss: 3804.2136 - val_regularization_loss: 0.0000e+00 - val_total_loss: 3804.2136\n",
      "Epoch 4/20\n",
      "407/407 [==============================] - 7s 17ms/step - factorized_top_k/top_1_categorical_accuracy: 0.0000e+00 - factorized_top_k/top_5_categorical_accuracy: 0.0000e+00 - factorized_top_k/top_10_categorical_accuracy: 0.0000e+00 - factorized_top_k/top_50_categorical_accuracy: 0.0000e+00 - factorized_top_k/top_100_categorical_accuracy: 0.0000e+00 - loss: 4577.9132 - regularization_loss: 0.0000e+00 - total_loss: 4577.9132 - val_factorized_top_k/top_1_categorical_accuracy: 0.0000e+00 - val_factorized_top_k/top_5_categorical_accuracy: 0.0012 - val_factorized_top_k/top_10_categorical_accuracy: 0.0045 - val_factorized_top_k/top_50_categorical_accuracy: 0.0429 - val_factorized_top_k/top_100_categorical_accuracy: 0.0927 - val_loss: 4668.2388 - val_regularization_loss: 0.0000e+00 - val_total_loss: 4668.2388\n",
      "Epoch 5/20\n",
      "401/407 [============================>.] - ETA: 0s - factorized_top_k/top_1_categorical_accuracy: 0.0000e+00 - factorized_top_k/top_5_categorical_accuracy: 0.0000e+00 - factorized_top_k/top_10_categorical_accuracy: 0.0000e+00 - factorized_top_k/top_50_categorical_accuracy: 0.0000e+00 - factorized_top_k/top_100_categorical_accuracy: 0.0000e+00 - loss: 4732.4597 - regularization_loss: 0.0000e+00 - total_loss: 4732.4597"
     ]
    },
    {
     "name": "stderr",
     "output_type": "stream",
     "text": [
      "2022-09-11 13:41:02.895686: W tensorflow/core/framework/dataset.cc:768] Input of GeneratorDatasetOp::Dataset will not be optimized because the dataset does not implement the AsGraphDefInternal() method needed to apply optimizations.\n"
     ]
    },
    {
     "name": "stdout",
     "output_type": "stream",
     "text": [
      "407/407 [==============================] - 7s 17ms/step - factorized_top_k/top_1_categorical_accuracy: 0.0000e+00 - factorized_top_k/top_5_categorical_accuracy: 0.0000e+00 - factorized_top_k/top_10_categorical_accuracy: 0.0000e+00 - factorized_top_k/top_50_categorical_accuracy: 0.0000e+00 - factorized_top_k/top_100_categorical_accuracy: 0.0000e+00 - loss: 4720.7070 - regularization_loss: 0.0000e+00 - total_loss: 4720.7070 - val_factorized_top_k/top_1_categorical_accuracy: 0.0000e+00 - val_factorized_top_k/top_5_categorical_accuracy: 0.0012 - val_factorized_top_k/top_10_categorical_accuracy: 0.0049 - val_factorized_top_k/top_50_categorical_accuracy: 0.0535 - val_factorized_top_k/top_100_categorical_accuracy: 0.1105 - val_loss: 5054.8174 - val_regularization_loss: 0.0000e+00 - val_total_loss: 5054.8174\n"
     ]
    },
    {
     "data": {
      "text/plain": [
       "<keras.callbacks.History at 0x136f7f0d0>"
      ]
     },
     "execution_count": 17,
     "metadata": {},
     "output_type": "execute_result"
    }
   ],
   "source": [
    "model.fit(x=train, validation_data=val, epochs=max_epoch_num, callbacks=callbacks)"
   ]
  },
  {
   "cell_type": "code",
   "execution_count": 18,
   "id": "51a80147-c6b3-4b09-b9a7-63dbbcbd5157",
   "metadata": {},
   "outputs": [
    {
     "name": "stderr",
     "output_type": "stream",
     "text": [
      "2022-09-11 13:41:07.330466: W tensorflow/core/grappler/optimizers/data/auto_shard.cc:776] AUTO sharding policy will apply DATA sharding policy as it failed to apply FILE sharding policy because of the following reason: Found an unshardable source dataset: name: \"TensorSliceDataset/_2\"\n",
      "op: \"TensorSliceDataset\"\n",
      "input: \"Placeholder/_0\"\n",
      "input: \"Placeholder/_1\"\n",
      "attr {\n",
      "  key: \"Toutput_types\"\n",
      "  value {\n",
      "    list {\n",
      "      type: DT_STRING\n",
      "      type: DT_STRING\n",
      "    }\n",
      "  }\n",
      "}\n",
      "attr {\n",
      "  key: \"_cardinality\"\n",
      "  value {\n",
      "    i: 5649\n",
      "  }\n",
      "}\n",
      "attr {\n",
      "  key: \"is_files\"\n",
      "  value {\n",
      "    b: false\n",
      "  }\n",
      "}\n",
      "attr {\n",
      "  key: \"metadata\"\n",
      "  value {\n",
      "    s: \"\\n\\024TensorSliceDataset:2\"\n",
      "  }\n",
      "}\n",
      "attr {\n",
      "  key: \"output_shapes\"\n",
      "  value {\n",
      "    list {\n",
      "      shape {\n",
      "      }\n",
      "      shape {\n",
      "      }\n",
      "    }\n",
      "  }\n",
      "}\n",
      "experimental_type {\n",
      "  type_id: TFT_PRODUCT\n",
      "  args {\n",
      "    type_id: TFT_DATASET\n",
      "    args {\n",
      "      type_id: TFT_PRODUCT\n",
      "      args {\n",
      "        type_id: TFT_TENSOR\n",
      "        args {\n",
      "          type_id: TFT_STRING\n",
      "        }\n",
      "      }\n",
      "      args {\n",
      "        type_id: TFT_TENSOR\n",
      "        args {\n",
      "          type_id: TFT_STRING\n",
      "        }\n",
      "      }\n",
      "    }\n",
      "  }\n",
      "}\n",
      "\n"
     ]
    },
    {
     "name": "stdout",
     "output_type": "stream",
     "text": [
      "57/57 [==============================] - 6s 49ms/step - factorized_top_k/top_1_categorical_accuracy: 0.0000e+00 - factorized_top_k/top_5_categorical_accuracy: 0.0012 - factorized_top_k/top_10_categorical_accuracy: 0.0050 - factorized_top_k/top_50_categorical_accuracy: 0.0529 - factorized_top_k/top_100_categorical_accuracy: 0.1108 - loss: 9041.3492 - regularization_loss: 0.0000e+00 - total_loss: 9041.3492\n"
     ]
    },
    {
     "data": {
      "text/plain": [
       "{'factorized_top_k/top_1_categorical_accuracy': 0.0,\n",
       " 'factorized_top_k/top_5_categorical_accuracy': 0.0012391573982313275,\n",
       " 'factorized_top_k/top_10_categorical_accuracy': 0.00495662959292531,\n",
       " 'factorized_top_k/top_50_categorical_accuracy': 0.052929721772670746,\n",
       " 'factorized_top_k/top_100_categorical_accuracy': 0.11081607639789581,\n",
       " 'loss': 3917.065673828125,\n",
       " 'regularization_loss': 0,\n",
       " 'total_loss': 3917.065673828125}"
      ]
     },
     "execution_count": 18,
     "metadata": {},
     "output_type": "execute_result"
    }
   ],
   "source": [
    "model.evaluate(test, return_dict=True)"
   ]
  },
  {
   "cell_type": "code",
   "execution_count": null,
   "id": "f8eb694f-6320-42b8-b02a-f26d14c8354f",
   "metadata": {},
   "outputs": [],
   "source": []
  }
 ],
 "metadata": {
  "kernelspec": {
   "display_name": "Python 3 (ipykernel)",
   "language": "python",
   "name": "python3"
  },
  "language_info": {
   "codemirror_mode": {
    "name": "ipython",
    "version": 3
   },
   "file_extension": ".py",
   "mimetype": "text/x-python",
   "name": "python",
   "nbconvert_exporter": "python",
   "pygments_lexer": "ipython3",
   "version": "3.9.7"
  }
 },
 "nbformat": 4,
 "nbformat_minor": 5
}
